{
 "cells": [
  {
   "cell_type": "markdown",
   "metadata": {},
   "source": [
    "# Testing Pastas WellModel: The consistency problem\n",
    "\n",
    "Comparison between adding well normally (as StressModel with Hantush response) and adding the same well as a WellModel.\n",
    "\n",
    "## What is WellModel?\n",
    "The idea behind the WellModel is that the same response function determines the influence of multiple wells ( e.g. because they are located in the same aquifer) and the influence at the observation point is scaled only by the distance between the well and the observation point. The WellModel uses the Hantush response function which contains a parameter $\\rho = \\tfrac{r}{\\lambda}$. Each well in the WellModel then has its own paramater $\\rho_i = \\tfrac{r_i}{\\lambda}$ which scales the response with the distance to the observation point.\n",
    "\n",
    "## How is the scaling implemented?\n",
    "The scaling is implemented by passing an extra parameter onto the Hantush response function. The original three parameters are:\n",
    "1. gain\n",
    "2. $\\rho$\n",
    "3. $cS$\n",
    "\n",
    "A fourth parameter is added which contains the distance to the observation point.\n",
    "4. $r$\n",
    "\n",
    "The assumption then is that the parameter passed to the LeastSquares solver is: $\\rho' = \\tfrac{1}{\\lambda}$ (the distance is set to 1 m). In `Hantush.step` this parameter $\\rho'$ is multiplied by $r$ to obtain the original $\\rho$. The initial, minimum and maximum parameters values of $\\rho'$ are scaled accordingly by dividing the original guess by the distance to the well. (For several wells the maximum distance is used, but we're only looking at one well in this notebook). The scaling is currently performed manually.\n",
    "\n",
    "## What is the problem?\n",
    "An issue occurs where subsequent runs of seemingly identical models yield different fit results when using a WellModel. The calculated EVP is sometimes similar to the Normal Model (model with normal StressModel) and sometimes much lower. The possible EVP outcomes do seem limited to a limited set of values that are obtained seemingly at random."
   ]
  },
  {
   "cell_type": "markdown",
   "metadata": {},
   "source": [
    "### Import packages\n",
    "Using wellmodel branch of pastas!"
   ]
  },
  {
   "cell_type": "code",
   "execution_count": 4,
   "metadata": {},
   "outputs": [
    {
     "name": "stdout",
     "output_type": "stream",
     "text": [
      "pastas is installed in C:/GitHub/pastas\\pastas\n"
     ]
    }
   ],
   "source": [
    "import os\n",
    "import sys\n",
    "import pandas as pd\n",
    "import numpy as np\n",
    "import matplotlib.pyplot as plt\n",
    "\n",
    "sys.path.insert(1, \"C:/GitHub/pastas\")  # edit for your PC/Mac!\n",
    "import pastas as ps\n",
    "import scipy\n",
    "print(\"pastas is installed in {}\".format(os.path.dirname(ps.__file__)))"
   ]
  },
  {
   "cell_type": "code",
   "execution_count": 5,
   "metadata": {},
   "outputs": [
    {
     "name": "stdout",
     "output_type": "stream",
     "text": [
      "Python version: sys.version_info(major=3, minor=7, micro=2, releaselevel='final', serial=0)\n",
      "Pandas version: 0.24.2\n",
      "Numpy version: 1.15.4\n",
      "Scipy version: 1.2.1\n",
      "Pastas version: 0.10.0b\n"
     ]
    }
   ],
   "source": [
    "print(\"Python version:\", sys.version_info)\n",
    "print(\"Pandas version:\", pd.__version__)\n",
    "print(\"Numpy version:\", np.__version__)\n",
    "print(\"Scipy version:\", scipy.__version__)\n",
    "print(\"Pastas version:\", ps.__version__)"
   ]
  },
  {
   "cell_type": "code",
   "execution_count": 6,
   "metadata": {},
   "outputs": [],
   "source": [
    "N = 50  # no. of models to build and run one after another\n",
    "method = \"dogbox\""
   ]
  },
  {
   "cell_type": "markdown",
   "metadata": {},
   "source": [
    "## Load data"
   ]
  },
  {
   "cell_type": "code",
   "execution_count": 7,
   "metadata": {},
   "outputs": [],
   "source": [
    "oseries = pd.read_csv(\"./data_notebook_wellmodel/B44E0126_10.csv\", parse_dates=True, index_col=[0])\n",
    "drongelen = pd.read_csv(r\"./data_notebook_wellmodel/drongelen.csv\", parse_dates=True, index_col=[0])\n",
    "waalwijk = pd.read_csv(r\"./data_notebook_wellmodel/waalwijk.csv\", parse_dates=True, index_col=[0])\n",
    "genderen = pd.read_csv(r\"./data_notebook_wellmodel/genderen.csv\", parse_dates=True, index_col=[0])"
   ]
  },
  {
   "cell_type": "code",
   "execution_count": 8,
   "metadata": {},
   "outputs": [],
   "source": [
    "prec = pd.read_csv(\"./data_notebook_wellmodel/RD Capelle (Nb).csv\", parse_dates=True, index_col=[0])\n",
    "evap = pd.read_csv(\"./data_notebook_wellmodel/EV24 Gilze-Rijen.csv\", parse_dates=True, index_col=[0])"
   ]
  },
  {
   "cell_type": "raw",
   "metadata": {},
   "source": [
    "tmin = \"1987-09-03\"\n",
    "tmax = \"2018-10-04\"\n",
    "\n",
    "oseries = oseries.loc[tmin:tmax]\n",
    "drongelen = drongelen.loc[tmin:tmax]\n",
    "genderen = genderen.loc[tmin:tmax]\n",
    "waalwijk = waalwijk.loc[tmin:tmax]\n",
    "prec = prec.loc[tmin:tmax]\n",
    "evap = evap.loc[tmin:tmax]"
   ]
  },
  {
   "cell_type": "markdown",
   "metadata": {},
   "source": [
    "Convert to pastas.TimeSeries"
   ]
  },
  {
   "cell_type": "code",
   "execution_count": 9,
   "metadata": {
    "scrolled": true
   },
   "outputs": [
    {
     "data": {
      "text/plain": [
       "dict_keys(['oseries', 'prec', 'evap', 'well', 'waterlevel', 'level', 'flux', 'quantity'])"
      ]
     },
     "execution_count": 9,
     "metadata": {},
     "output_type": "execute_result"
    }
   ],
   "source": [
    "ps.TimeSeries._predefined_settings.keys()"
   ]
  },
  {
   "cell_type": "code",
   "execution_count": 10,
   "metadata": {},
   "outputs": [],
   "source": [
    "oseries = ps.TimeSeries(oseries, name=\"B44E0126_10\", settings=\"oseries\")\n",
    "\n",
    "drongelen = ps.TimeSeries(drongelen, name=\"Drongelen\", settings=\"well\")\n",
    "waalwijk = ps.TimeSeries(waalwijk, name=\"Waalwijk\", settings=\"well\")\n",
    "genderen = ps.TimeSeries(genderen, name=\"Genderen\", settings=\"well\")\n",
    "\n",
    "prec = ps.TimeSeries(prec, name=\"RD Capelle\", settings=\"prec\")\n",
    "evap = ps.TimeSeries(evap, name=\"EV24 Gilze-Rijen\", settings=\"evap\")\n",
    "\n",
    "welldistances = np.array([48.08856265, 5629.36274254, 6434.19837384])  # in order listed above"
   ]
  },
  {
   "cell_type": "markdown",
   "metadata": {},
   "source": [
    "## Normal model with one well"
   ]
  },
  {
   "cell_type": "code",
   "execution_count": 11,
   "metadata": {},
   "outputs": [
    {
     "name": "stderr",
     "output_type": "stream",
     "text": [
      "C:/GitHub/pastas\\pastas\\noisemodels.py:176: RuntimeWarning: divide by zero encountered in double_scalars\n",
      "  exp = np.exp(-2.0 / alpha * odelt)  # Twice as fast as 2*odelt/alpha\n"
     ]
    }
   ],
   "source": [
    "results0 = pd.DataFrame()\n",
    "\n",
    "ml = ps.Model(oseries, name=\"B44E0126_10\", log_level=\"ERROR\")\n",
    "sm = ps.StressModel(drongelen, ps.Hantush, name=\"Drongelen\", up=False)\n",
    "ml.add_stressmodel(sm)\n",
    "\n",
    "for i in range(N):\n",
    "    ml.solve(freq=\"14D\", report=False, noise=True, method=method)\n",
    "    results0.loc[pd.datetime.now(), \"evp\"] = ml.stats.evp()\n",
    "    print(\".\", end=\"\", flush=True)"
   ]
  },
  {
   "cell_type": "markdown",
   "metadata": {},
   "source": [
    "## Using WellModel with one well "
   ]
  },
  {
   "cell_type": "code",
   "execution_count": 12,
   "metadata": {
    "scrolled": true
   },
   "outputs": [],
   "source": [
    "results1 = pd.DataFrame()\n",
    "distances = welldistances[0:1]\n",
    "\n",
    "ml2 = ps.Model(oseries, name=\"B44E0126_10\", log_level=\"ERROR\")\n",
    "wm = ps.stressmodels.WellModel([drongelen], ps.Hantush, name=\"DrongelenWM\", \n",
    "                               distances=distances, up=False, settings=[drongelen.settings])\n",
    "ml2.add_stressmodel(wm)\n",
    "\n",
    "# Reset initial paramter value to be scaled by the maximum distances in the well Model\n",
    "ml2.set_parameter(wm.name + \"_rho\", 1./np.max(distances), \"initial\")  # this works\n",
    "ml2.set_parameter(wm.name + \"_rho\", 1e-4/np.max(distances), \"pmin\")  # this works\n",
    "ml2.set_parameter(wm.name + \"_rho\", 10./np.max(distances), \"pmax\")  # this works\n",
    "    \n",
    "for i in range(N):\n",
    "    ml2.solve(freq=\"14D\", report=False, noise=True, method=method)\n",
    "    results1.loc[pd.datetime.now(), \"evp\"] = ml2.stats.evp()\n",
    "    print(\".\", end=\"\", flush=True)"
   ]
  },
  {
   "cell_type": "markdown",
   "metadata": {},
   "source": [
    "## Normal model with one well with recharge"
   ]
  },
  {
   "cell_type": "code",
   "execution_count": 13,
   "metadata": {},
   "outputs": [],
   "source": [
    "results2 = pd.DataFrame()\n",
    "\n",
    "ml = ps.Model(oseries, name=\"B44E0126_10\", log_level=\"ERROR\")\n",
    "rm = ps.StressModel2([prec, evap], ps.Gamma, name=\"recharge\")\n",
    "ml.add_stressmodel(rm)\n",
    "sm = ps.StressModel(drongelen, ps.Hantush, name=\"Drongelen\", up=False)\n",
    "ml.add_stressmodel(sm)\n",
    "\n",
    "for i in range(N):\n",
    "    ml.solve(freq=\"14D\", report=False, noise=True, method=method)\n",
    "    results2.loc[pd.datetime.now(), \"evp\"] = ml.stats.evp()\n",
    "    print(\".\", end=\"\", flush=True)"
   ]
  },
  {
   "cell_type": "markdown",
   "metadata": {},
   "source": [
    "## Using WellModel with one well with recharge"
   ]
  },
  {
   "cell_type": "code",
   "execution_count": 14,
   "metadata": {
    "scrolled": false
   },
   "outputs": [],
   "source": [
    "results3 = pd.DataFrame()\n",
    "    \n",
    "distances = welldistances[0:1]\n",
    "\n",
    "ml2 = ps.Model(oseries, name=\"B44E0126_10\", log_level=\"ERROR\")\n",
    "\n",
    "rm = ps.StressModel2([prec, evap], ps.Gamma, name=\"recharge\")\n",
    "ml2.add_stressmodel(rm)\n",
    "\n",
    "wm = ps.stressmodels.WellModel([drongelen], ps.Hantush, name=\"DrongelenWM\", \n",
    "                               distances=distances, up=False, settings=[drongelen.settings])\n",
    "ml2.add_stressmodel(wm)\n",
    "\n",
    "# Reset initial paramter value to be scaled by the maximum distances in the well Model\n",
    "ml2.set_parameter(wm.name + \"_rho\", 1./np.max(distances), \"initial\")  # this works\n",
    "ml2.set_parameter(wm.name + \"_rho\", 1e-4/np.max(distances), \"pmin\")  # this works\n",
    "ml2.set_parameter(wm.name + \"_rho\", 10./np.max(distances), \"pmax\")  # this works\n",
    "\n",
    "for i in range(N):\n",
    "    ml2.solve(freq=\"14D\", report=False, noise=True, method=method)\n",
    "    results3.loc[pd.datetime.now(), \"evp\"] = ml2.stats.evp()\n",
    "    print(\".\", end=\"\", flush=True)"
   ]
  },
  {
   "cell_type": "code",
   "execution_count": 15,
   "metadata": {},
   "outputs": [
    {
     "data": {
      "image/png": "[encoded data removed]",
      "text/plain": [
       "<Figure size 864x432 with 1 Axes>"
      ]
     },
     "metadata": {
      "needs_background": "light"
     },
     "output_type": "display_data"
    }
   ],
   "source": [
    "fig, ax = plt.subplots(1, 1, figsize=(12, 6))\n",
    "ax.plot(range(1, N+1), results0.values, label=\"EVP Normal Model (no recharge)\", marker=\".\")\n",
    "ax.plot(range(1, N+1), results1.values, label=\"EVP WellModel (no recharge)\", marker=\"x\")\n",
    "ax.plot(range(1, N+1), results2.values, label=\"EVP Normal Model (with recharge)\", marker=\"+\")\n",
    "ax.plot(range(1, N+1), results3.values, label=\"EVP WellModel (with recharge)\", marker=\"*\")\n",
    "ax.grid(b=True)\n",
    "ax.set_ylabel(\"EVP (%)\")\n",
    "ax.set_xticks(range(1, N+1))\n",
    "ax.set_xlabel(\"Run no.\")\n",
    "ax.legend(loc=\"best\");"
   ]
  },
  {
   "cell_type": "code",
   "execution_count": 16,
   "metadata": {},
   "outputs": [
    {
     "name": "stdout",
     "output_type": "stream",
     "text": [
      "4.88 s ± 560 ms per loop (mean ± std. dev. of 7 runs, 1 loop each)\n"
     ]
    }
   ],
   "source": [
    "%timeit ml2.solve(freq=\"14D\", report=False, noise=True, method=\"trf\")"
   ]
  },
  {
   "cell_type": "code",
   "execution_count": 17,
   "metadata": {},
   "outputs": [
    {
     "name": "stdout",
     "output_type": "stream",
     "text": [
      "1.77 s ± 75.6 ms per loop (mean ± std. dev. of 7 runs, 1 loop each)\n"
     ]
    }
   ],
   "source": [
    "%timeit ml2.solve(freq=\"14D\", report=False, noise=True, method=\"dogbox\")"
   ]
  },
  {
   "cell_type": "code",
   "execution_count": null,
   "metadata": {},
   "outputs": [],
   "source": []
  }
 ],
 "metadata": {
  "kernelspec": {
   "display_name": "Python 3",
   "language": "python",
   "name": "python3"
  },
  "language_info": {
   "codemirror_mode": {
    "name": "ipython",
    "version": 3
   },
   "file_extension": ".py",
   "mimetype": "text/x-python",
   "name": "python",
   "nbconvert_exporter": "python",
   "pygments_lexer": "ipython3",
   "version": "3.7.2"
  }
 },
 "nbformat": 4,
 "nbformat_minor": 2
}
