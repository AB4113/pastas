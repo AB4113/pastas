{
 "cells": [
  {
   "cell_type": "markdown",
   "metadata": {},
   "source": [
    "# Testing Pastas WellModel: The consistency problem (simple)\n",
    "\n",
    "Comparison between adding well normally (as StressModel with Hantush response) and adding the same well as a WellModel.\n",
    "\n",
    "## What is WellModel?\n",
    "The idea behind the WellModel is that the same response function determines the influence of multiple wells ( e.g. because they are located in the same aquifer) and the influence at the observation point is scaled only by the distance between the well and the observation point. The WellModel uses the Hantush response function which contains a parameter $\\rho = \\tfrac{r}{\\lambda}$. Each well in the WellModel then has its own paramater $\\rho_i = \\tfrac{r_i}{\\lambda}$ which scales the response with the distance to the observation point.\n",
    "\n",
    "## How is the scaling implemented?\n",
    "The scaling is implemented by passing an extra parameter onto the Hantush response function. The original three parameters are:\n",
    "1. gain\n",
    "2. $\\rho$\n",
    "3. $cS$\n",
    "\n",
    "A fourth parameter is added which contains the distance to the observation point.\n",
    "4. $r$\n",
    "\n",
    "The assumption then is that the parameter passed to the LeastSquares solver is: $\\rho' = \\tfrac{1}{\\lambda}$ (the distance is set to 1 m). In `Hantush.step` this parameter $\\rho'$ is multiplied by $r$ to obtain the original $\\rho$. The initial, minimum and maximum parameters values of $\\rho'$ are scaled accordingly by dividing the original guess by the distance to the well. (For several wells the maximum distance is used, but we're only looking at one well in this notebook). The scaling is currently performed manually.\n",
    "\n",
    "## What is the problem?\n",
    "An issue occurs where subsequent runs of seemingly identical models yield different fit results when using a WellModel. The calculated EVP is sometimes similar to the Normal Model (model with normal StressModel) and sometimes much lower. The possible EVP outcomes do seem limited to a limited set of values that are obtained seemingly at random."
   ]
  },
  {
   "cell_type": "markdown",
   "metadata": {},
   "source": [
    "### Import packages\n",
    "Using wellmodel branch of pastas!"
   ]
  },
  {
   "cell_type": "code",
   "execution_count": 1,
   "metadata": {},
   "outputs": [
    {
     "name": "stdout",
     "output_type": "stream",
     "text": [
      "pastas is installed in C:/GitHub/pastas\\pastas\n"
     ]
    }
   ],
   "source": [
    "import os\n",
    "import sys\n",
    "import pandas as pd\n",
    "import numpy as np\n",
    "import matplotlib.pyplot as plt\n",
    "\n",
    "sys.path.insert(1, \"C:/GitHub/pastas\")  # edit for your PC/Mac!\n",
    "import pastas as ps\n",
    "import scipy\n",
    "print(\"pastas is installed in {}\".format(os.path.dirname(ps.__file__)))"
   ]
  },
  {
   "cell_type": "code",
   "execution_count": 2,
   "metadata": {},
   "outputs": [
    {
     "name": "stdout",
     "output_type": "stream",
     "text": [
      "Python version: sys.version_info(major=3, minor=7, micro=2, releaselevel='final', serial=0)\n",
      "Pandas version: 0.24.0\n",
      "Numpy version: 1.15.4\n",
      "Scipy version: 1.2.0\n",
      "Pastas version: 0.10.0b\n"
     ]
    }
   ],
   "source": [
    "print(\"Python version:\", sys.version_info)\n",
    "print(\"Pandas version:\", pd.__version__)\n",
    "print(\"Numpy version:\", np.__version__)\n",
    "print(\"Scipy version:\", scipy.__version__)\n",
    "print(\"Pastas version:\", ps.__version__)"
   ]
  },
  {
   "cell_type": "code",
   "execution_count": 3,
   "metadata": {},
   "outputs": [],
   "source": [
    "N = 50  # no. of models to build and run one after another"
   ]
  },
  {
   "cell_type": "markdown",
   "metadata": {},
   "source": [
    "## Load data"
   ]
  },
  {
   "cell_type": "code",
   "execution_count": 4,
   "metadata": {},
   "outputs": [],
   "source": [
    "oseries = pd.read_csv(\"./data_notebook_wellmodel/B44E0126_10.csv\", parse_dates=True, index_col=[0])\n",
    "drongelen = pd.read_csv(r\"./data_notebook_wellmodel/drongelen.csv\", parse_dates=True, index_col=[0])"
   ]
  },
  {
   "cell_type": "code",
   "execution_count": 5,
   "metadata": {},
   "outputs": [],
   "source": [
    "prec = pd.read_csv(\"./data_notebook_wellmodel/RD Capelle (Nb).csv\", parse_dates=True, index_col=[0])\n",
    "evap = pd.read_csv(\"./data_notebook_wellmodel/EV24 Gilze-Rijen.csv\", parse_dates=True, index_col=[0])"
   ]
  },
  {
   "cell_type": "markdown",
   "metadata": {},
   "source": [
    "If I (David Brakenhoff) comment out this next cell, I get the old behavior, where I randomly get either an EVP of about 75% or about 30%. If slice the timeseries prior to doing all the Pastas stuff, so far I get a consistent fit..."
   ]
  },
  {
   "cell_type": "raw",
   "metadata": {},
   "source": [
    "# tmin = \"1987-09-03\"  # this is the tmin pastas determines if nothing is passed\n",
    "# tmax = \"2018-10-04\"  # this is the tmax pastas determines if nothing is passed\n",
    "\n",
    "tmin = \"2008\"\n",
    "tmax = \"2018\"\n",
    "\n",
    "oseries = oseries.loc[tmin:tmax]\n",
    "drongelen = drongelen.loc[tmin:tmax]\n",
    "prec = prec.loc[tmin:tmax]\n",
    "evap = evap.loc[tmin:tmax]"
   ]
  },
  {
   "cell_type": "markdown",
   "metadata": {},
   "source": [
    "Convert to pastas.TimeSeries"
   ]
  },
  {
   "cell_type": "code",
   "execution_count": 6,
   "metadata": {
    "scrolled": true
   },
   "outputs": [
    {
     "data": {
      "text/plain": [
       "dict_keys(['oseries', 'prec', 'evap', 'well', 'waterlevel', 'level', 'flux', 'quantity'])"
      ]
     },
     "execution_count": 6,
     "metadata": {},
     "output_type": "execute_result"
    }
   ],
   "source": [
    "ps.TimeSeries._predefined_settings.keys()"
   ]
  },
  {
   "cell_type": "code",
   "execution_count": 7,
   "metadata": {},
   "outputs": [],
   "source": [
    "oseries = ps.TimeSeries(oseries, name=\"B44E0126_10\", settings=\"oseries\")\n",
    "\n",
    "drongelen = ps.TimeSeries(drongelen, name=\"Drongelen\", settings=\"well\")\n",
    "\n",
    "prec = ps.TimeSeries(prec, name=\"RD Capelle\", settings=\"prec\")\n",
    "evap = ps.TimeSeries(evap, name=\"EV24 Gilze-Rijen\", settings=\"evap\")\n",
    "\n",
    "welldistances = np.array([48.08856265])  # in order listed above"
   ]
  },
  {
   "cell_type": "code",
   "execution_count": 8,
   "metadata": {},
   "outputs": [
    {
     "data": {
      "text/plain": [
       "TimeSeries(name=B44E0126_10, freq=None, tmin=1987-09-14 12:00:00, tmax=2018-10-05 13:00:00)"
      ]
     },
     "execution_count": 8,
     "metadata": {},
     "output_type": "execute_result"
    }
   ],
   "source": [
    "oseries"
   ]
  },
  {
   "cell_type": "code",
   "execution_count": 9,
   "metadata": {},
   "outputs": [
    {
     "data": {
      "text/plain": [
       "TimeSeries(name=Drongelen, freq=None, tmin=1989-02-01 00:00:00, tmax=2018-09-30 00:00:00)"
      ]
     },
     "execution_count": 9,
     "metadata": {},
     "output_type": "execute_result"
    }
   ],
   "source": [
    "drongelen"
   ]
  },
  {
   "cell_type": "code",
   "execution_count": 10,
   "metadata": {},
   "outputs": [
    {
     "data": {
      "text/plain": [
       "TimeSeries(name=RD Capelle, freq=None, tmin=1958-01-02 00:00:00, tmax=2019-03-20 00:00:00)"
      ]
     },
     "execution_count": 10,
     "metadata": {},
     "output_type": "execute_result"
    }
   ],
   "source": [
    "prec"
   ]
  },
  {
   "cell_type": "code",
   "execution_count": 11,
   "metadata": {},
   "outputs": [
    {
     "data": {
      "text/plain": [
       "TimeSeries(name=EV24 Gilze-Rijen, freq=None, tmin=1958-01-03 00:00:00, tmax=2019-04-05 00:00:00)"
      ]
     },
     "execution_count": 11,
     "metadata": {},
     "output_type": "execute_result"
    }
   ],
   "source": [
    "evap"
   ]
  },
  {
   "cell_type": "markdown",
   "metadata": {},
   "source": [
    "## Using WellModel with one well with recharge"
   ]
  },
  {
   "cell_type": "code",
   "execution_count": 12,
   "metadata": {
    "scrolled": false
   },
   "outputs": [
    {
     "name": "stdout",
     "output_type": "stream",
     "text": [
      ".................................................."
     ]
    }
   ],
   "source": [
    "results3 = pd.DataFrame()\n",
    "\n",
    "   \n",
    "distances = welldistances[0:1]\n",
    "\n",
    "ml2 = ps.Model(oseries, name=\"B44E0126_10\", log_level=\"ERROR\")\n",
    "\n",
    "rm = ps.StressModel2([prec, evap], ps.Gamma, name=\"recharge\")\n",
    "ml2.add_stressmodel(rm)\n",
    "\n",
    "wm = ps.stressmodels.WellModel([drongelen], ps.Hantush, name=\"DrongelenWM\", \n",
    "                               distances=distances, up=False, settings=[drongelen.settings])\n",
    "ml2.add_stressmodel(wm)\n",
    "\n",
    "# Reset initial paramter value to be scaled by the maximum distances in the well Model\n",
    "ml2.set_parameter(wm.name + \"_rho\", 1./np.max(distances), \"initial\")  # this works\n",
    "ml2.set_parameter(wm.name + \"_rho\", 1e-4/np.max(distances), \"pmin\")  # this works\n",
    "ml2.set_parameter(wm.name + \"_rho\", 10./np.max(distances), \"pmax\")  # this works\n",
    "\n",
    "for i in range(N):    \n",
    "    ml2.solve(freq=\"14D\", report=False, noise=True)\n",
    "    results3.loc[pd.datetime.now(), \"evp\"] = ml2.stats.evp()\n",
    "#     results3.loc[pd.datetime.now(), \"evp\"] = ml2.simulate().sum()\n",
    "    print(\".\", end=\"\", flush=True)"
   ]
  },
  {
   "cell_type": "code",
   "execution_count": 13,
   "metadata": {},
   "outputs": [
    {
     "data": {
      "image/png": "[encoded data removed]",
      "text/plain": [
       "<Figure size 864x432 with 1 Axes>"
      ]
     },
     "metadata": {
      "needs_background": "light"
     },
     "output_type": "display_data"
    }
   ],
   "source": [
    "fig, ax = plt.subplots(1, 1, figsize=(12, 6))\n",
    "ax.plot(range(1, N+1), results3.values, label=\"EVP WellModel (with recharge)\", marker=\"*\")\n",
    "ax.grid(b=True)\n",
    "ax.set_ylabel(\"EVP (%)\")\n",
    "ax.set_xticks(range(1, N+1))\n",
    "ax.set_xlabel(\"Run no.\")\n",
    "ax.legend(loc=\"best\")\n",
    "ax.set_ylim(bottom=0.0, top=100.);"
   ]
  },
  {
   "cell_type": "code",
   "execution_count": null,
   "metadata": {},
   "outputs": [],
   "source": []
  }
 ],
 "metadata": {
  "kernelspec": {
   "display_name": "Python 3",
   "language": "python",
   "name": "python3"
  },
  "language_info": {
   "codemirror_mode": {
    "name": "ipython",
    "version": 3
   },
   "file_extension": ".py",
   "mimetype": "text/x-python",
   "name": "python",
   "nbconvert_exporter": "python",
   "pygments_lexer": "ipython3",
   "version": "3.7.2"
  }
 },
 "nbformat": 4,
 "nbformat_minor": 2
}
