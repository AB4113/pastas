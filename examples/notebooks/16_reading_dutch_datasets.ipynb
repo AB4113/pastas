{
 "cells": [
  {
   "cell_type": "markdown",
   "metadata": {},
   "source": [
    "# Reading Dutch Datasets\n",
    "\n",
    "`pastas` comes with several helpful functions for reading data from files from common data sources in the Netherlands. These sources include:\n",
    "- [Dinoloket](https://www.dinoloket.nl/ondergrondgegevens): for groundwater and surface water level timeseries.\n",
    "- [KNMI](http://projects.knmi.nl/klimatologie/daggegevens/selectie.cgi): for precipitation and timeseries timeseries\n",
    "- Waterbase: for surface water level timeseries from Rijkswaterstaat.\n",
    "- [Menyanthes](https://www.kwrwater.nl/tools-producten/menyanthes/): read files created by Menyanthes\n",
    "\n",
    "The functionality for reading files from Dinoloket is shown in this notebook. \n",
    "\n",
    "First, start with the necessesary imports."
   ]
  },
  {
   "cell_type": "code",
   "execution_count": null,
   "metadata": {
    "tags": []
   },
   "outputs": [],
   "source": [
    "import pandas as pd\n",
    "import matplotlib.pyplot as plt\n",
    "\n",
    "import pastas as ps\n",
    "\n",
    "ps.show_versions()"
   ]
  },
  {
   "cell_type": "markdown",
   "metadata": {},
   "source": [
    "For reading groundwater level timeseries there is the `read_dino` function. For river level gauge data there is the `read_dino_level_gauge` function. These functions are available at the module level. The code below loads these timeseries from CSV files in the data directory."
   ]
  },
  {
   "cell_type": "code",
   "execution_count": null,
   "metadata": {
    "tags": []
   },
   "outputs": [],
   "source": [
    "gw_levels = ps.read_dino(r'../data/B49F0555001_1.csv')\n",
    "river_levels = ps.read_dino_level_gauge(r'../data/P43H0001.csv')"
   ]
  },
  {
   "cell_type": "markdown",
   "metadata": {},
   "source": [
    "Note that these `pastas.Timeseries` objects contain metadata, i.e. for the `river_levels`:"
   ]
  },
  {
   "cell_type": "code",
   "execution_count": null,
   "metadata": {},
   "outputs": [],
   "source": [
    "river_levels.metadata"
   ]
  },
  {
   "cell_type": "markdown",
   "metadata": {},
   "source": [
    "The resulting `pastas.TimeSeries` come with their own plot methods, to quickly visualize the data:"
   ]
  },
  {
   "cell_type": "code",
   "execution_count": null,
   "metadata": {},
   "outputs": [],
   "source": [
    "ax = gw_levels.plot()\n",
    "river_levels.plot()"
   ]
  },
  {
   "cell_type": "markdown",
   "metadata": {},
   "source": [
    "As can be observed in the plot above, something went wrong with the registration of the river levels in the field. The shows a huge downward shift at the end of 2014. The negative values from end of 2014 onwards are assummed to be correct. The positive values were registered incorrectly (missing a minus sign). \n",
    "\n",
    "We fix the timeseries by updating the `TimeSeries` attribute called `series_original`. The `update_series` method is called in order to renew derived attributes."
   ]
  },
  {
   "cell_type": "code",
   "execution_count": null,
   "metadata": {},
   "outputs": [],
   "source": [
    "river_levels.series_original = river_levels.series_original.abs() * -1  # set positive values to negative\n",
    "river_levels.update_series()"
   ]
  },
  {
   "cell_type": "markdown",
   "metadata": {},
   "source": [
    "Plot the timeseries again, to see if the applied fix looks reasonable:"
   ]
  },
  {
   "cell_type": "code",
   "execution_count": null,
   "metadata": {},
   "outputs": [],
   "source": [
    "gw_levels.plot()\n",
    "river_levels.plot()"
   ]
  },
  {
   "cell_type": "markdown",
   "metadata": {},
   "source": [
    "Another option for loading river levels is the `DinoPeilschaal` reader class. This creates a `DinoPeilschaal` object containing the data and the metadata. These are accessible through the `data` and `meta` attributes, respectively. \n",
    "\n",
    "The difference with the previous method is that the original data is available as a pandas.DataFrame when using this method.\n"
   ]
  },
  {
   "cell_type": "code",
   "execution_count": null,
   "metadata": {},
   "outputs": [],
   "source": [
    "river_levels_obj = ps.read.dinoloket.DinoPeilschaal(r'../data/P43H0001.csv')"
   ]
  },
  {
   "cell_type": "markdown",
   "metadata": {},
   "source": [
    "View the original data:"
   ]
  },
  {
   "cell_type": "code",
   "execution_count": null,
   "metadata": {},
   "outputs": [],
   "source": [
    "river_levels_obj.data.head()"
   ]
  },
  {
   "cell_type": "markdown",
   "metadata": {},
   "source": [
    "The metadata:"
   ]
  },
  {
   "cell_type": "code",
   "execution_count": null,
   "metadata": {},
   "outputs": [],
   "source": [
    "river_levels_obj.meta"
   ]
  }
 ],
 "metadata": {
  "kernelspec": {
   "display_name": "Python 3",
   "language": "python",
   "name": "python3"
  },
  "language_info": {
   "codemirror_mode": {
    "name": "ipython",
    "version": 3
   },
   "file_extension": ".py",
   "mimetype": "text/x-python",
   "name": "python",
   "nbconvert_exporter": "python",
   "pygments_lexer": "ipython3",
   "version": "3.7.6"
  }
 },
 "nbformat": 4,
 "nbformat_minor": 4
}