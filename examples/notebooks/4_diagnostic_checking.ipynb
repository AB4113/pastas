{
 "cells": [
  {
   "cell_type": "markdown",
   "metadata": {},
   "source": [
    "<img src=\"https://github.com/pastas/pastas/blob/dev/doc/_static/logo_graz.png?raw=true\" align=\"right\" width=250>\n",
    "\n",
    "# Model Diagnostic Checking\n",
    "*R.A. Collenteur, University of Graz, July 2020*.\n",
    "\n",
    "**Notebook Content**\n",
    "\n",
    "This notebook provides an in-depth discussion of the different methods that are available for diagnostic checking of the models residuals. Readers who want to get a quick overview of how to perform a diagnostic check on Pastas model in practice are recommended to skip to section 5 of this notebook.\n",
    "\n",
    "1. [Introduction](#Introduction)\n",
    "2. [Checking for autocorrelation](#Checking-for-autocorrelation)\n",
    "3. [Checking for Homoscedasticity](#Checking-for-homoscedasticity)\n",
    "4. [Checking for Normality](#Checking-for-Normal-distribution)\n",
    "5. [Diagnostic Checking in Pastas in Practice](#Diagnostics-checking-in-practice)\n",
    "6. [References](#References)\n",
    "\n",
    "## Introduction\n",
    "In this notebook we will show how to perform diagnostic checks on a Pastas model using built-in methods. Diagnostic checking is a common step in the time series modelling proces, subjecting a calibrated model to various statistical tests to ensure that the model adequately describes the time series [(Hipel & McLeod, 2005)](#References). Diagnostics checks are performed on the residual or noise series of a model, depending on whether or not a noisemodel was applied in the modelling process. We will refer to the series that was minimized during parameter estimation as the \"residuals\". In practice in Pastas models, these can come from `ml.noise()` or `ml.residuals()`. Regardless of this, the diagnostics tests are always the same.\n",
    "\n",
    "### Why to check: reasons to diagnose\n",
    "Before we start the discussion of what to check, let's discuss why we would want to perform diagnostic checks at all. In general, diagnostic checks should be performed when you want to make inferences with a model using the estimated standard errors of the parameters. For example, if you want to draw the confidence interval of the estimated step response for a variable, you will use the standard errors of the parameters to do so. This assumes that the standard errors are estimated accurately, which will be the case if the minimized residual series agree with a number of assumptions.\n",
    "\n",
    "<div class=\"alert alert-block alert-info\">\n",
    "<b>Rule-of-thumb:</b>when the standard errors of the parameters are used, the model residuals should be diagnostically checked.\n",
    "</div>\n",
    "\n",
    "### What to check: assumptions of white noise\n",
    "The methods used for the estimation of these standard errors assume that the model residuals behave as white noise with a mean of zero and noise values that are independent from each other (i.e., no significant autocorrelation). Additionally, it is often assumed that the residuals are homoscedastic (i.e., have a constant variance) and follow a normal distribution. The first two assumptions are the most important, having the largest impact on the estimated standard errors of the parameters [(Hipel & McLeod, 2005)](#References). Additionally to these four assumptions, the model residuals should be uncorrelated with any of the input time series. If the residuals are found to behave as white noise, we may assume that the standard errors of the parameters have been accurately estimated and we may use them, for example,  to make inferences with the model.\n",
    "\n",
    "### How to check: visualisation & hypothesis testing\n",
    "The assumptions outlined above may be checked through hypothesis testing, in which statistical tests are used to test the assumption that the residuals are e.g., independent, homoscedastic, or normally distributed. These tests typically test a hypothesis with some version of the following Null hypothesis ($H_0$) and the Alternative hypothesis ($H_A$):\n",
    "\n",
    "- $H_0$: The residuals are independent, homoscedastic, or normally distributed\n",
    "- $H_A$: The residuals are not independent, homoscedastic, or normally distributed\n",
    "\n",
    "The result of a hypothesis test either rejects the Null hypothesis or fails to reject the Null hypothesis, but can never be used to accept the Alternative hypothesis. For example, if an hypothesis test for autocorrelation fails to reject the hypothesis, we may conclude that there is no significant autocorrelation in the residuals. All hypothesis tests compute a certain test statistic (e.g., $Z$), which is compared to a theoretical value according to a certain distribution (e.g., $\\chi^2$) that depends on the level of significance (e.g., $\\alpha=0.05$) and (often) the number of parameters to determine the degrees of freedom $h$.\n"
   ]
  },
  {
   "cell_type": "markdown",
   "metadata": {},
   "source": [
    "## Create normally distributed white noise"
   ]
  },
  {
   "cell_type": "code",
   "execution_count": 1,
   "metadata": {},
   "outputs": [
    {
     "data": {
      "text/plain": [
       "<matplotlib.axes._subplots.AxesSubplot at 0x7fcd672c55d0>"
      ]
     },
     "execution_count": 1,
     "metadata": {},
     "output_type": "execute_result"
    }
   ],
   "source": [
    "# Import necessary packages\n",
    "import pandas as pd\n",
    "import pastas as ps\n",
    "\n",
    "import scipy.stats as stats\n",
    "import matplotlib.pyplot as plt\n",
    "\n",
    "ps.set_log_level(\"ERROR\")\n",
    "ml = ps.io.load(\"model.pas\")\n",
    "alpha = 0.05\n",
    "\n",
    "import numpy as np\n",
    "random_seed = np.random.RandomState(1234)\n",
    "index = pd.to_datetime(np.arange(3650), unit=\"D\")\n",
    "noise = pd.Series(random_seed.normal(0,1,3650), index=index)\n",
    "noise.plot()"
   ]
  },
  {
   "cell_type": "markdown",
   "metadata": {},
   "source": [
    "## Checking for zero mean"
   ]
  },
  {
   "cell_type": "code",
   "execution_count": 10,
   "metadata": {},
   "outputs": [
    {
     "name": "stdout",
     "output_type": "stream",
     "text": [
      "0.028160547579193417 -0.00029665656721284246\n"
     ]
    }
   ],
   "source": [
    "print(noise.mean(), ml.noise().mean())"
   ]
  },
  {
   "cell_type": "markdown",
   "metadata": {},
   "source": [
    "## Checking for independence\n",
    "The first thing we check is if the values of residual series are independent form each other, or in other words, are not correlated. The correlation of a time series with a lagged version of itself is also referred to as autocorrelation, and we often say that we want to check that there is no significant autocorrelation in the residual time series. The following methods to test for autocorrelation are available in Pastas:\n",
    "\n",
    "| Name | Pastas method | Description | Non-equidistant |\n",
    "|:-----|:--------------|:------------|----------------:|\n",
    "| Autocorrelation | `ps.stats.acf`| Estimation of the autocorrelation of a time series that also works for non-equidistant timesteps.| Yes|\n",
    "| Plot ACF | `ps.stats.plot_acf` | Visualisation of the autocorrelation and its confidence intervals. | Yes |\n",
    "|Ljung-Box test| `ps.stats.ljung_box`| This test checks whether the autocorrelations of a time series are significantly different from zero.| No |\n",
    "| Durbin Watson test | `ps.stats.durbin_watson` | This tests diagnoses for autocorrelation at a lag of one time step. | No |\n",
    "|Portmanteau test |`ps.stats.portmanteau`| This test is similar to the Ljung-Box test, but is adapted for missing values | Yes |\n",
    "| Runs test |`ps.stats.runs_test` | This test checks whether the values of a time series are random without assuming any probability distribution. | Yes |\n",
    "\n",
    "Whereas many time series models have equidistant time steps, the residuals of Pastas models may have non-equidistant time steps. To deal with this property, functions have been implemented in Pastas that can deal with non-equidistant time steps. We therefore recommend to use the statistical methods supplied in Pastas, unless the modeller is sure he/she is dealing with equidistant time steps. See the additional Notebook on the autocorrelation function for more details and a proof of concept.\n",
    "\n",
    "### Visual interpretation of the autocorrelation\n",
    "To diagnose the model residuals for autocorrelation we first plot the autocorrelation function (ACF) using the `ps.stats.plot_acf` method and perform a visual interpretation of the models residuals. The created plot shows the autocorrelation function up to a time lag of 250 days. The blue-shaded area denotes the 95\\% confidence interval (1-$\\alpha$). If 95\\% of the autocorrelations fall within this confidence interval (that is, 0.95 $\\cdot$ 250 = ±237 of them), we may conclude that there is no significant autocorrelation in the residuals. "
   ]
  },
  {
   "cell_type": "code",
   "execution_count": 3,
   "metadata": {},
   "outputs": [
    {
     "data": {
      "image/png": "[encoded data removed]",
      "text/plain": [
       "<Figure size 720x216 with 1 Axes>"
      ]
     },
     "metadata": {
      "needs_background": "light"
     },
     "output_type": "display_data"
    }
   ],
   "source": [
    "ax = ps.stats.plot_acf(noise, acf_options=dict(lags=np.arange(250)), figsize=(10,3))"
   ]
  },
  {
   "cell_type": "markdown",
   "metadata": {},
   "source": [
    "The number of time lags to control for autocorrelation has to be chosen by the modeler, for example based on the knowledge of hydrological processes. For example, evaporation shows a clear yearly cycle and we may expect autocorrelation at lags of one year as a result of this. We therefore recommend to test for autocorrelation for all lags up to a lag of $k_{max}=365$ days here. It is noted here the number of lags $k$ [-] to calculate the autocorrelation for may depend on the time step of the residuals ($\\Delta t$). For example, if daily residuals are available ($\\Delta t = 1$ day), the autocorrelation has to be computed for $k=365$ [-] lags.\n",
    "\n",
    "### The Ljung-Box test for autocorrelation\n",
    "The Ljung-Box test [(1978)](#References) tests the null-hypothesis that the residual series are independently distributed up to a desired time lag $k$ and is computed as follows:\n",
    "\n",
    "$$Q_k = n(n+2) \\sum_{k=1}^{h} \\frac{\\rho_k^2}{n-k} $$\n",
    "\n",
    "where $\\rho_k$ is the autocorrelation at lag $k$, $h$ is the maximum lag used for calculation, and $n$ is the number of values in the noise series. The computed $Q$-statistic is then compared to a critical value computed from a $\\chi^2_{\\alpha, h-p}$ distribution with a significance level $\\alpha$ and $h-p$ degrees of freedom, where $h$ is the number of lags and $p$ the number of calibrated model parameters."
   ]
  },
  {
   "cell_type": "code",
   "execution_count": 21,
   "metadata": {},
   "outputs": [
    {
     "name": "stdout",
     "output_type": "stream",
     "text": [
      "Failed to reject the Null-hypothesis, no significant autocorrelation. p= 0.05\n"
     ]
    }
   ],
   "source": [
    "stat, p = ps.stats.ljung_box(noise, max_lag=365)\n",
    "\n",
    "if p > alpha:\n",
    "    print(\"Failed to reject the Null-hypothesis, no significant autocorrelation. p =\", p.round(2))\n",
    "else:\n",
    "    print(\"Reject the Null-hypothesis\")"
   ]
  },
  {
   "cell_type": "markdown",
   "metadata": {},
   "source": [
    "**Considerations when using this test:** A potential problem of the Ljung-Box test is the low power of the test when testing for a large number of lags using a small sample size $n$. It has been suggested that suggested that $k \\leq n/4$ but also as low as $k \\leq n/20$. If we are using daily groundwater levels observations, and we want to test for autocorrelation for lags up to one year (365 days) this means that we need between 4 and ten years of data. Another issue is that this test may only be used for equidistant time steps."
   ]
  },
  {
   "cell_type": "markdown",
   "metadata": {},
   "source": [
    "### The Durbin-Watson Test\n",
    "The Durbin-Watson statistic [(1951)](#References) tests the null-hypothesis that the correlation between the noise values at lag one equals zero and is computed as follows:  \n",
    "\n",
    "$$ DW = \\frac{\\sum_{t=2}^{n}(\\upsilon_t-\\upsilon_{t-1}^2)}{\\sum_{t=1}^{n}\\upsilon_t^2} $$\n",
    "\n",
    "where $n$ is the number of values in the noise series. The test-statistic has a range $0 \\geq DW \\leq 4$, where values of $DW < 2$ indicate a positive correlation and values of $DW > 2$ indicates negative autocorrelation. The Durbin-Watson test requires a constant time interval of the noise series and tests for autocorrelation at a lag of 1 time step."
   ]
  },
  {
   "cell_type": "code",
   "execution_count": 11,
   "metadata": {},
   "outputs": [
    {
     "data": {
      "text/plain": [
       "(2.2076542685235907, nan)"
      ]
     },
     "execution_count": 11,
     "metadata": {},
     "output_type": "execute_result"
    }
   ],
   "source": [
    "ps.stats.durbin_watson(ml.noise(), alpha=alpha)"
   ]
  },
  {
   "cell_type": "markdown",
   "metadata": {},
   "source": [
    "### The Stoffer-Toloi Q test with missing data\n",
    "Stoffer and Toloi [(1992)](#References) extended the Ljung-Box test to also work with missing data. This test is implemented in Pastas as `ps.stats.portmanteau`. When the groundwater level time series and thus the residuals have non-equidistant time steps it is recommended to use this test over the original Ljung-Box test."
   ]
  },
  {
   "cell_type": "code",
   "execution_count": null,
   "metadata": {},
   "outputs": [],
   "source": [
    "#ps.stats.portmanteau(noise, maxlag=5)"
   ]
  },
  {
   "cell_type": "markdown",
   "metadata": {},
   "source": [
    "### The Runs test\n",
    "Wald and Wolfowitz developed [(1968)](#References) developed a distribution free test (i.e., no normal distribution is assumed) to test for autocorrelation. This test is also appropriate for non-equidistant time steps in the residuals time series. The Null-hypothesis is that the residual time series is a random sequence of positive and negative values. The alternative hypothesis is that they are non-random."
   ]
  },
  {
   "cell_type": "code",
   "execution_count": 19,
   "metadata": {},
   "outputs": [
    {
     "name": "stdout",
     "output_type": "stream",
     "text": [
      "Failed to reject the Null-hypothesis, no significant autocorrelation. p= 0.47\n"
     ]
    }
   ],
   "source": [
    "stat, p = ps.stats.runs_test(ml.noise(), alpha=alpha)\n",
    "\n",
    "if p > alpha:\n",
    "    print(\"Failed to reject the Null-hypothesis, no significant autocorrelation. p =\", p.round(2))\n",
    "else:\n",
    "    print(\"Reject the Null-hypothesis\")"
   ]
  },
  {
   "cell_type": "code",
   "execution_count": null,
   "metadata": {},
   "outputs": [],
   "source": []
  },
  {
   "cell_type": "markdown",
   "metadata": {},
   "source": [
    "## 2. Checking for homoscedasticity\n",
    "The final assumption we check is if the residuals are so-called homoscedastic, which in practice means that the values of the residuals are independent of the simulated groundwater levels.\n",
    "The following tests for homoscedasticity are available:\n",
    "\n",
    "| Name | Pastas method | Description | Non-equidistant |\n",
    "|:-----|:--------------|:------------|----------------:|\n",
    "|Visualisation | | Visualisation of residuals| Unknown|\n",
    "|Engle test| | |Unknown|\n",
    "|Breusch-Pagaan test| | |Unknown|"
   ]
  },
  {
   "cell_type": "code",
   "execution_count": null,
   "metadata": {},
   "outputs": [],
   "source": [
    "plt.plot(ml.observations(), ml.residuals(), marker=\"o\", linestyle=\" \")\n",
    "plt.xlabel(\"Simulated Groundwater level [m]\")\n",
    "plt.ylabel(\"Model residual [m]\");"
   ]
  },
  {
   "cell_type": "markdown",
   "metadata": {},
   "source": [
    "## 3. Checking for Normal distribution\n",
    "A common assumption is that the residuals follow a Normal distribution, although in principle it is also possible that the residuals come from another distribtion. Testing whether or not a time series comes from a normal distribution is notoriously difficult, especially for larger sample size (e.g., more groundwater level observations). \n",
    "\n",
    "An easy method to asses the normality of the residuals is to plot \n",
    "\n",
    "The following tests are available:\n",
    "\n",
    "\n",
    "| Name | Pastas method | Description | Non-equidistant Time series |\n",
    "|:-----|:--------------|:------------|----------------:|\n",
    "|Visualisation | `stats.probplot`|| Yes with weighted noise? |\n",
    "|shapiro-wilk |`scipy.stats.shapiro`|| Unknown |\n",
    "| D'Agostino |`scipy.stats.normaltest`|This test checks if the noise series comes from a normal distribution (H0 hypothesis)| Unknown |"
   ]
  },
  {
   "cell_type": "code",
   "execution_count": null,
   "metadata": {},
   "outputs": [],
   "source": [
    "ax = plt.subplot()  # To make the plot, an axes has to be provided\n",
    "_ = stats.probplot(noise, plot=ax);"
   ]
  },
  {
   "cell_type": "code",
   "execution_count": null,
   "metadata": {},
   "outputs": [],
   "source": [
    "stat, p = stats.shapiro(noise)\n",
    "p < alpha"
   ]
  },
  {
   "cell_type": "code",
   "execution_count": null,
   "metadata": {},
   "outputs": [],
   "source": [
    "stat, p = stats.normaltest(noise)\n",
    "p < alpha"
   ]
  },
  {
   "cell_type": "markdown",
   "metadata": {},
   "source": [
    "As the p-value is larger than $\\alpha=0.05$ it is possible that the noise series comes from a normal distribution, so the Null hypothesis (series comes from a normal distribution) is not rejected."
   ]
  },
  {
   "cell_type": "markdown",
   "metadata": {},
   "source": [
    "## 4. Diagnostics checking in practice\n",
    "To check all the assumptions mentioned above at once, Pastas has two methods to perform all of the above tests in batch. The first method plots a collection of the visualisations (`ml.plots.diagnostics()`) and the second methods runs all statistical tests in batch (`ml.stats.diagnostics()`). Running these methods for every Pastas Model is recommended when modeling time series with Pastas and doing inferences with a calibrated model.\n"
   ]
  },
  {
   "cell_type": "code",
   "execution_count": null,
   "metadata": {},
   "outputs": [],
   "source": [
    "ml = ps.io.load(\"model.pas\")\n",
    "res = ml.noise()\n",
    "ml.plots.results();"
   ]
  },
  {
   "cell_type": "code",
   "execution_count": null,
   "metadata": {},
   "outputs": [],
   "source": [
    "ps.stats.diagnostics(noise, alpha=0.05)"
   ]
  },
  {
   "cell_type": "code",
   "execution_count": null,
   "metadata": {},
   "outputs": [],
   "source": [
    "ps.stats.plot_diagnostics(noise);"
   ]
  },
  {
   "cell_type": "markdown",
   "metadata": {},
   "source": [
    "## Diagnostic vs. hydrological checking\n",
    "The diagnostic checks presented in this Notebook are only part of the checks that could be performed before using a model for different purposes. It is noted here that these checks are part of a larger ranges of checks that may be performed on a Pastas model. We also highly recommend checking the model results using hydrological insights and expert judgement. An additional notebook showing this kind of checks will be added in the future.\n",
    "\n",
    "## Food for thought\n",
    "- How well do the tests for normality and homoscedasticity work for time series with non-equidistant time steps?\n",
    "- Should the weighted or unweighted residuals be used for diagnostic checking?\n",
    "- Could we use the ACF for irregular timesteps in combination with Ljung-Box?\n",
    "- How to determine the degrees of freedom for a test, just the parameters from the noise model, or also from the deterministic model?"
   ]
  },
  {
   "cell_type": "markdown",
   "metadata": {},
   "source": [
    "## References\n",
    "\n",
    "- Hipel, K. W., & McLeod, A. I. (1994). Time series modelling of water resources and environmental systems, [Chaper 7: Diagnostic Checking.](http://fisher.stats.uwo.ca/faculty/aim/1994Book/1994-Time-chapter%207.pdf) Elsevier.\n",
    "- Stoffer, D. S., & Toloi, C. M. (1992). [A note on the Ljung—Box—Pierce portmanteau statistic with missing data](https://www.sciencedirect.com/science/article/pii/016771529290112I). Statistics & probability letters, 13(5), 391-396.\n",
    "- D'Agostino, R. and Pearson, E. S. (1973), [Tests for departure from normality](https://www.jstor.org/stable/2335012), Biometrika, 60, 613-622.\n",
    "- Ljung, G. and Box, G. (1978). [On a Measure of Lack of Fit in Time Series Models, Biometrika, 65, 297-303.](http://dx.doi.org/10.1093/biomet/65.2.297)\n",
    "- Durbin, J., & Watson, G. S. (1951). [Testing for serial correlation in least squares regression](https://www.jstor.org/stable/2332325). II. Biometrika, 38(1/2), 159-177.\n",
    "- Bradley, J. V. (1968). Distribution-free statistical tests.\n",
    "- \n",
    "\n",
    "## Benchmarking built-in Pastas Methods to Statsmodels methods"
   ]
  },
  {
   "cell_type": "code",
   "execution_count": null,
   "metadata": {},
   "outputs": [],
   "source": [
    "# import statsmodels.api as sm\n",
    "\n",
    "# acf = ps.stats.acf(noise, lags=np.arange(6), bin_width=0.5, bin_method=\"rectangle\")\n",
    "\n",
    "# print(\"Pastas:\", ps.stats.ljung_box(acf=acf, nobs=noise.size).iloc[:, 0].values)\n",
    "# print(\"Statsmodels:\", sm.tsa.q_stat(acf, noise.size)[0])"
   ]
  },
  {
   "cell_type": "code",
   "execution_count": null,
   "metadata": {},
   "outputs": [],
   "source": [
    "# print(\"Pastas:\", ps.stats.durbin_watson(noise)[0].round(2))\n",
    "# print(\"Statsmodels:\", sm.stats.durbin_watson(noise).round(2))"
   ]
  },
  {
   "cell_type": "code",
   "execution_count": null,
   "metadata": {},
   "outputs": [],
   "source": [
    "# print(\"Pastas:\", ps.stats.runs_test(noise))\n",
    "# print(\"Statsmodels:\", sm.stats.runstest_1samp(noise))"
   ]
  }
 ],
 "metadata": {
  "kernelspec": {
   "display_name": "Python 3",
   "language": "python",
   "name": "python3"
  },
  "language_info": {
   "codemirror_mode": {
    "name": "ipython",
    "version": 3
   },
   "file_extension": ".py",
   "mimetype": "text/x-python",
   "name": "python",
   "nbconvert_exporter": "python",
   "pygments_lexer": "ipython3",
   "version": "3.7.6"
  }
 },
 "nbformat": 4,
 "nbformat_minor": 4
}
